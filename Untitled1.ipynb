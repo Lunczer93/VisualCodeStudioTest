{
 "cells": [
  {
   "cell_type": "code",
   "execution_count": 1,
   "id": "6200a8af",
   "metadata": {},
   "outputs": [],
   "source": [
    "message1 = 'a'"
   ]
  },
  {
   "cell_type": "code",
   "execution_count": 2,
   "id": "4d991a03",
   "metadata": {},
   "outputs": [],
   "source": [
    "message2= 'b'"
   ]
  },
  {
   "cell_type": "code",
   "execution_count": 5,
   "id": "ca504cf5",
   "metadata": {},
   "outputs": [
    {
     "data": {
      "text/plain": [
       "'a + b'"
      ]
     },
     "execution_count": 5,
     "metadata": {},
     "output_type": "execute_result"
    }
   ],
   "source": [
    "f'{message1} + {message2}'"
   ]
  },
  {
   "cell_type": "code",
   "execution_count": 6,
   "id": "cb962dcd",
   "metadata": {},
   "outputs": [],
   "source": [
    "countries = ['United States', 'India', 'China', 'Brazil']"
   ]
  },
  {
   "cell_type": "code",
   "execution_count": 7,
   "id": "2cb1718a",
   "metadata": {},
   "outputs": [
    {
     "data": {
      "text/plain": [
       "['United States', 'India', 'China', 'Brazil']"
      ]
     },
     "execution_count": 7,
     "metadata": {},
     "output_type": "execute_result"
    }
   ],
   "source": [
    "countries "
   ]
  },
  {
   "cell_type": "code",
   "execution_count": 8,
   "id": "37c3cf5c",
   "metadata": {},
   "outputs": [
    {
     "data": {
      "text/plain": [
       "['United States', 'India', 'China', 'Brazil']"
      ]
     },
     "execution_count": 8,
     "metadata": {},
     "output_type": "execute_result"
    }
   ],
   "source": [
    "countries[:]"
   ]
  },
  {
   "cell_type": "code",
   "execution_count": 9,
   "id": "949a8786",
   "metadata": {},
   "outputs": [
    {
     "name": "stdout",
     "output_type": "stream",
     "text": [
      "a\n",
      "b\n",
      "c\n"
     ]
    }
   ],
   "source": [
    "a = ['a', 'b', 'c']\n",
    "\n",
    "for i in a:\n",
    "    print(i)"
   ]
  },
  {
   "cell_type": "code",
   "execution_count": 10,
   "id": "ec059f46",
   "metadata": {},
   "outputs": [
    {
     "name": "stdout",
     "output_type": "stream",
     "text": [
      "A\n"
     ]
    }
   ],
   "source": [
    "age = 20\n",
    "\n",
    "if age > 10:\n",
    "    print('A')\n",
    "else:\n",
    "    print('b')"
   ]
  },
  {
   "cell_type": "code",
   "execution_count": null,
   "id": "2edc30f2",
   "metadata": {},
   "outputs": [],
   "source": []
  }
 ],
 "metadata": {
  "kernelspec": {
   "display_name": "Python 3",
   "language": "python",
   "name": "python3"
  },
  "language_info": {
   "codemirror_mode": {
    "name": "ipython",
    "version": 3
   },
   "file_extension": ".py",
   "mimetype": "text/x-python",
   "name": "python",
   "nbconvert_exporter": "python",
   "pygments_lexer": "ipython3",
   "version": "3.8.8"
  }
 },
 "nbformat": 4,
 "nbformat_minor": 5
}
